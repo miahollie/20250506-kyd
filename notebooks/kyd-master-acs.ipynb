{
 "cells": [
  {
   "cell_type": "markdown",
   "id": "ce50d67d",
   "metadata": {},
   "source": [
    "# Population by Ancestry, Hispanic and Asian Origin\n",
    "\n",
    "The purpose of this notebook is to use the 2023 5-Year American Community Survey's data files on populations by self-reported ancestry, hispanic origin and asian origin to figure out what proportions of those groups reside in the city's City Council districts. \n",
    "<br>\n",
    "<br>\n",
    "<b> The Census's API can be used to retrieve the data, but I downloaded the files instead. If taking this route, choose all census tracts within NYS. These are the files: </b>\n",
    "- B04006 | People Reporting Ancestry\n",
    "- B03001 | Hispanic Or Latino Origin By Specific Origin\n",
    "- B02018 | Asian Alone By Selected Groups\n",
    "\n",
    "<b> After downloading, follow these steps to clean the files: </b>\n",
    "- Rename the zipped folders and data files. \n",
    "- Do a TEXTSPLIT() of the \"Geography\" column on \"US\" and of the \"Geographic Area Name\" column on \";\". \n",
    "- Clean up the columns so that you have just the census tracts and county names remaining from the step above.\n",
    "- Filter for only Bronx, Richmond, Queens, Kings and New York County. Paste the selection onto another sheet. You should be left with 2,327 rows, which equals the number of census tracts in NYC. \n",
    "- Rename the columns, remove the margin of error columns, and correct the data types of each column.\n",
    "- Optional: Get rid of columns in the cleaned sheet that wouldn't be useful in the actual analysis (e.g. 'Other Groups' or 'Not Specified'), but keep them in the raw sheets.\n",
    "\n"
   ]
  },
  {
   "cell_type": "code",
   "execution_count": 9,
   "id": "a63d3128",
   "metadata": {
    "tags": []
   },
   "outputs": [],
   "source": [
    "## import libraries\n",
    "import pandas as pd\n",
    "import geopandas as gpd"
   ]
  },
  {
   "cell_type": "code",
   "execution_count": 10,
   "id": "0cf573e5",
   "metadata": {},
   "outputs": [],
   "source": [
    "## set viz options\n",
    "pd.set_option('display.max_rows', 500)"
   ]
  },
  {
   "cell_type": "code",
   "execution_count": 11,
   "id": "148c95ee",
   "metadata": {},
   "outputs": [],
   "source": [
    "## import asian, hispanic and ancestry data from ACS 5Y for all five NYC counties. \n",
    "asian = pd.read_excel(\"../input/demographics/ethnicity/B02018_2023.xlsx\")\n",
    "hispanic = pd.read_excel('../input/demographics/ethnicity/b03001_2023.xlsx', sheet_name = 'cleaned_filtered')\n",
    "ancestry = pd.read_excel('../input/demographics/ethnicity/b04006_2023.xlsx', sheet_name = 'cleaned_filtered')"
   ]
  },
  {
   "cell_type": "code",
   "execution_count": 62,
   "id": "df1d0e34",
   "metadata": {},
   "outputs": [],
   "source": [
    "## import crosswalk, which matches 2020 census tracts with 2023 council districts\n",
    "crosswalk = pd.read_csv('../input/crosswalks/ct20-to-cd23-crosswalk.csv',\n",
    "                        dtype = {'ct':'str', 'cd':'str'})"
   ]
  },
  {
   "cell_type": "code",
   "execution_count": 63,
   "id": "e7acd19a",
   "metadata": {},
   "outputs": [],
   "source": [
    "## import other geom files\n",
    "old_demographics_file = gpd.read_file('../input/GIS/old_gis/demographics.json')\n",
    "old_centroid_file = gpd.read_file('../input/GIS/old_gis/demographics-centroids.json')"
   ]
  },
  {
   "cell_type": "markdown",
   "id": "80360a0c",
   "metadata": {},
   "source": [
    "#### reshape the asian, hispanic and ancestry data"
   ]
  },
  {
   "cell_type": "code",
   "execution_count": 16,
   "id": "536b4da7",
   "metadata": {},
   "outputs": [],
   "source": [
    "## reshape the datasets so that we have only three columns\n",
    "asian.columns = asian.columns.str.strip()"
   ]
  },
  {
   "cell_type": "code",
   "execution_count": 29,
   "id": "7308bcbb",
   "metadata": {},
   "outputs": [],
   "source": [
    "## define id variables and value variables\n",
    "asian_id_vars = ['ct']\n",
    "asian_value_vars = [col for col in asian.columns if col not in ['ct', 'county']]"
   ]
  },
  {
   "cell_type": "code",
   "execution_count": 30,
   "id": "a5cff7e9",
   "metadata": {},
   "outputs": [],
   "source": [
    "## reshape\n",
    "melted_asian = asian.melt(id_vars=asian_id_vars, \n",
    "                    value_vars=asian_value_vars, \n",
    "                    var_name='ethnicity', \n",
    "                    value_name='population')"
   ]
  },
  {
   "cell_type": "code",
   "execution_count": 31,
   "id": "85381abd",
   "metadata": {},
   "outputs": [],
   "source": [
    "## reshape the datasets so that we have only three columns\n",
    "hispanic.columns = hispanic.columns.str.strip()"
   ]
  },
  {
   "cell_type": "code",
   "execution_count": 32,
   "id": "4d29eb48",
   "metadata": {},
   "outputs": [],
   "source": [
    "## identify variables\n",
    "## define id variables and value variables\n",
    "hisp_id_vars = ['ct']\n",
    "hisp_value_vars = [col for col in hispanic.columns if col not in ['ct', 'county']]"
   ]
  },
  {
   "cell_type": "code",
   "execution_count": 33,
   "id": "1e930268",
   "metadata": {},
   "outputs": [],
   "source": [
    "## reshape hispanic dataset\n",
    "melted_hispanic = hispanic.melt(id_vars=hisp_id_vars, \n",
    "                    value_vars=hisp_value_vars, \n",
    "                    var_name='ethnicity', \n",
    "                    value_name='population')"
   ]
  },
  {
   "cell_type": "code",
   "execution_count": 34,
   "id": "583d6004",
   "metadata": {},
   "outputs": [],
   "source": [
    "## reshape the datasets so that we have only three columns\n",
    "ancestry.columns = ancestry.columns.str.strip()"
   ]
  },
  {
   "cell_type": "code",
   "execution_count": 35,
   "id": "9441ab36",
   "metadata": {},
   "outputs": [],
   "source": [
    "## identify variables\n",
    "## define id variables and value variables\n",
    "ancestry_id_vars = ['ct']\n",
    "ancestry_value_vars = [col for col in ancestry.columns if col not in ['ct', 'county']]"
   ]
  },
  {
   "cell_type": "code",
   "execution_count": 36,
   "id": "65ed6b76",
   "metadata": {},
   "outputs": [],
   "source": [
    "## reshape ancestry dataset\n",
    "melted_ancestry = ancestry.melt(id_vars=ancestry_id_vars, \n",
    "                    value_vars=ancestry_value_vars, \n",
    "                    var_name='ethnicity', \n",
    "                    value_name='population')"
   ]
  },
  {
   "cell_type": "code",
   "execution_count": 37,
   "id": "89ce8bd9",
   "metadata": {},
   "outputs": [],
   "source": [
    "## combine them all using concat\n",
    "combined = pd.concat([melted_ancestry, melted_asian, melted_hispanic], ignore_index = True)"
   ]
  },
  {
   "cell_type": "markdown",
   "id": "8f4ea76a",
   "metadata": {},
   "source": [
    "#### get the top ethnicity in each census tract"
   ]
  },
  {
   "cell_type": "code",
   "execution_count": 38,
   "id": "33011d91",
   "metadata": {},
   "outputs": [],
   "source": [
    "## get all unique tracts\n",
    "all_tracts = combined[['ct']].drop_duplicates()"
   ]
  },
  {
   "cell_type": "code",
   "execution_count": 39,
   "id": "6fd942b3",
   "metadata": {},
   "outputs": [],
   "source": [
    "## get the top ethnicity per tract, only if population > 0\n",
    "top_per_tract = (\n",
    "    combined[combined['population'] != 0]\n",
    "    .groupby(['ct','ethnicity'])['population']\n",
    "    .sum()\n",
    "    .reset_index()\n",
    "    .sort_values(by=['ct', 'population'], ascending=[True, False])\n",
    "    .groupby('ct')\n",
    "    .head(1)  # top ethnicity per tract\n",
    "    .reset_index(drop=True)\n",
    ")"
   ]
  },
  {
   "cell_type": "code",
   "execution_count": 40,
   "id": "808341a8",
   "metadata": {},
   "outputs": [],
   "source": [
    "## merge with all tracts to ensure every tract appears\n",
    "add_nulls = all_tracts.merge(top_per_tract, on='ct', how='left')"
   ]
  },
  {
   "cell_type": "code",
   "execution_count": 41,
   "id": "05cadc22",
   "metadata": {},
   "outputs": [],
   "source": [
    "## change 'ct' column dtype \n",
    "add_nulls['ct'] = add_nulls['ct'].astype('str')"
   ]
  },
  {
   "cell_type": "code",
   "execution_count": 42,
   "id": "87160d25",
   "metadata": {},
   "outputs": [
    {
     "name": "stdout",
     "output_type": "stream",
     "text": [
      "<class 'pandas.core.frame.DataFrame'>\n",
      "RangeIndex: 2327 entries, 0 to 2326\n",
      "Data columns (total 3 columns):\n",
      " #   Column      Non-Null Count  Dtype  \n",
      "---  ------      --------------  -----  \n",
      " 0   ct          2327 non-null   object \n",
      " 1   ethnicity   2242 non-null   object \n",
      " 2   population  2242 non-null   float64\n",
      "dtypes: float64(1), object(2)\n",
      "memory usage: 54.7+ KB\n"
     ]
    }
   ],
   "source": [
    "## checking rows...\n",
    "add_nulls.info()"
   ]
  },
  {
   "cell_type": "code",
   "execution_count": 60,
   "id": "7db7b6de",
   "metadata": {},
   "outputs": [
    {
     "data": {
      "text/html": [
       "<div>\n",
       "<style scoped>\n",
       "    .dataframe tbody tr th:only-of-type {\n",
       "        vertical-align: middle;\n",
       "    }\n",
       "\n",
       "    .dataframe tbody tr th {\n",
       "        vertical-align: top;\n",
       "    }\n",
       "\n",
       "    .dataframe thead th {\n",
       "        text-align: right;\n",
       "    }\n",
       "</style>\n",
       "<table border=\"1\" class=\"dataframe\">\n",
       "  <thead>\n",
       "    <tr style=\"text-align: right;\">\n",
       "      <th></th>\n",
       "      <th>ct</th>\n",
       "      <th>ethnicity</th>\n",
       "      <th>population</th>\n",
       "    </tr>\n",
       "  </thead>\n",
       "  <tbody>\n",
       "    <tr>\n",
       "      <th>0</th>\n",
       "      <td>36005000100</td>\n",
       "      <td>Puerto Rican</td>\n",
       "      <td>197.0</td>\n",
       "    </tr>\n",
       "    <tr>\n",
       "      <th>1</th>\n",
       "      <td>36005000200</td>\n",
       "      <td>Puerto Rican</td>\n",
       "      <td>1273.0</td>\n",
       "    </tr>\n",
       "    <tr>\n",
       "      <th>2</th>\n",
       "      <td>36005000400</td>\n",
       "      <td>Puerto Rican</td>\n",
       "      <td>2077.0</td>\n",
       "    </tr>\n",
       "    <tr>\n",
       "      <th>3</th>\n",
       "      <td>36005001600</td>\n",
       "      <td>Puerto Rican</td>\n",
       "      <td>1843.0</td>\n",
       "    </tr>\n",
       "    <tr>\n",
       "      <th>4</th>\n",
       "      <td>36005001901</td>\n",
       "      <td>Dominican</td>\n",
       "      <td>370.0</td>\n",
       "    </tr>\n",
       "  </tbody>\n",
       "</table>\n",
       "</div>"
      ],
      "text/plain": [
       "            ct     ethnicity  population\n",
       "0  36005000100  Puerto Rican       197.0\n",
       "1  36005000200  Puerto Rican      1273.0\n",
       "2  36005000400  Puerto Rican      2077.0\n",
       "3  36005001600  Puerto Rican      1843.0\n",
       "4  36005001901     Dominican       370.0"
      ]
     },
     "execution_count": 60,
     "metadata": {},
     "output_type": "execute_result"
    }
   ],
   "source": [
    "add_nulls.head()"
   ]
  },
  {
   "cell_type": "code",
   "execution_count": 64,
   "id": "82b9539b",
   "metadata": {},
   "outputs": [],
   "source": [
    "## rename columns \n",
    "renamed_columns = add_nulls.rename(columns = {'ethnicity':'lar_grp',\n",
    "                                              'population':'lar_pop'})"
   ]
  },
  {
   "cell_type": "markdown",
   "id": "49d97c92",
   "metadata": {},
   "source": [
    "#### add geometries"
   ]
  },
  {
   "cell_type": "code",
   "execution_count": 69,
   "id": "6bc45d3e",
   "metadata": {},
   "outputs": [],
   "source": [
    "## first do regular geometries \n",
    "demographics = renamed_columns.merge(old_demographics_file[['ct','cd','nta','geometry']],\n",
    "                                    on = 'ct',\n",
    "                                    how = 'left')"
   ]
  },
  {
   "cell_type": "code",
   "execution_count": 73,
   "id": "dd42ca81",
   "metadata": {},
   "outputs": [],
   "source": [
    "## make into a geo dataframe\n",
    "demo_gdf = gpd.GeoDataFrame(demographics,\n",
    "                            geometry = demographics.geometry,\n",
    "                            crs = 4326)"
   ]
  },
  {
   "cell_type": "code",
   "execution_count": 74,
   "id": "c9694bd9",
   "metadata": {},
   "outputs": [],
   "source": [
    "## write to file\n",
    "demo_gdf.to_file('../output/demographics/demographics.geojson', driver = 'GeoJSON')"
   ]
  },
  {
   "cell_type": "code",
   "execution_count": 72,
   "id": "759578ac",
   "metadata": {},
   "outputs": [],
   "source": [
    "## now centroids\n",
    "demo_centroids = renamed_columns.merge(old_centroid_file[['ct','cd','nta','geometry']],\n",
    "                                    on = 'ct',\n",
    "                                    how = 'left')"
   ]
  },
  {
   "cell_type": "code",
   "execution_count": 75,
   "id": "baaa8ec2",
   "metadata": {},
   "outputs": [],
   "source": [
    "## make into geodataframe\n",
    "centroid_gdf = gpd.GeoDataFrame(demo_centroids,\n",
    "                                geometry = demo_centroids.geometry,\n",
    "                                crs = 4326)"
   ]
  },
  {
   "cell_type": "code",
   "execution_count": 76,
   "id": "2fcb8dd1",
   "metadata": {},
   "outputs": [],
   "source": [
    "## write to file\n",
    "centroid_gdf.to_file('../output/demographics/demographic-centoids.geojson', driver = 'GeoJSON')"
   ]
  },
  {
   "cell_type": "code",
   "execution_count": null,
   "id": "2f18c71a",
   "metadata": {},
   "outputs": [],
   "source": []
  }
 ],
 "metadata": {
  "kernelspec": {
   "display_name": "kyd-env",
   "language": "python",
   "name": "python3"
  },
  "language_info": {
   "codemirror_mode": {
    "name": "ipython",
    "version": 3
   },
   "file_extension": ".py",
   "mimetype": "text/x-python",
   "name": "python",
   "nbconvert_exporter": "python",
   "pygments_lexer": "ipython3",
   "version": "3.9.6"
  }
 },
 "nbformat": 4,
 "nbformat_minor": 5
}
