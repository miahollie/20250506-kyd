{
 "cells": [
  {
   "cell_type": "markdown",
   "id": "ce50d67d",
   "metadata": {},
   "source": [
    "# District Master Files\n",
    "\n",
    "The purpose of this notebook is to create a master \"council.json\" file for the update Get to Know Your District news app, which lives on THE CITY's website.\n",
    "<br>\n",
    "<br>\n",
    "<b>Data Columns:</b>\n",
    "<br>\n",
    "cd, new_pop, pop_u18, hisp, white, black, asian, other_race, multiracial, pop_acs23, dem, rep, blank, third_parties, prim_adams, prim_wiley,prim_garcia, prim_yang, prim_stringer, prim_morales, prim_mcguire, prim_donovan, prim_votes, adams, sliwa, mayor_votes, hochul, zeldin, gov_votes, voters_nov22, incumbent, boro, party, ntas,lar_grp1, lar_grp2, lar_grp3, lar_pop1, lar_pop2, lar_pop3, geometry, mhIncome\n"
   ]
  },
  {
   "cell_type": "code",
   "execution_count": 1,
   "id": "a63d3128",
   "metadata": {
    "tags": []
   },
   "outputs": [],
   "source": [
    "## import libraries\n",
    "import pandas as pd\n",
    "import geopandas as gpd\n",
    "import csv"
   ]
  },
  {
   "cell_type": "code",
   "execution_count": 2,
   "id": "0cf573e5",
   "metadata": {},
   "outputs": [],
   "source": [
    "## set viz options\n",
    "pd.set_option('display.max_rows', 500)"
   ]
  },
  {
   "cell_type": "code",
   "execution_count": null,
   "id": "2f18c71a",
   "metadata": {},
   "outputs": [],
   "source": [
    "## import all necessary files\n"
   ]
  }
 ],
 "metadata": {
  "kernelspec": {
   "display_name": "kyd-env",
   "language": "python",
   "name": "python3"
  },
  "language_info": {
   "codemirror_mode": {
    "name": "ipython",
    "version": 3
   },
   "file_extension": ".py",
   "mimetype": "text/x-python",
   "name": "python",
   "nbconvert_exporter": "python",
   "pygments_lexer": "ipython3",
   "version": "3.9.6"
  }
 },
 "nbformat": 4,
 "nbformat_minor": 5
}
