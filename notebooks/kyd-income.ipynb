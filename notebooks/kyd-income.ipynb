{
 "cells": [
  {
   "cell_type": "markdown",
   "metadata": {},
   "source": [
    "# Median Household Incomes\n",
    "\n",
    "This notebook uses median household income estimates found in the 2023 5-Year American Community Survey to figure out the median household income in each NYC City Council district. For the citywide median household income, use the average of all districts. \n",
    "<br>\n",
    "<br>\n",
    "A relationship file between 2020 Census Tracts and 2023 City Council district boundaries was used to assign each census tract to a council district. To find the median income of the council district, take the mean of the census tracts assigned to that district.\n",
    "<br>\n",
    "<br>\n",
    "This data analysis was produced for THE CITY's \"Get to Know Your Council District\" news app, found here: https://projects.thecity.nyc/new-york-city-council-district/"
   ]
  },
  {
   "cell_type": "code",
   "execution_count": 1,
   "metadata": {},
   "outputs": [],
   "source": [
    "## import libraries\n",
    "import pandas as pd\n",
    "import geopandas as gpd"
   ]
  },
  {
   "cell_type": "code",
   "execution_count": 19,
   "metadata": {},
   "outputs": [],
   "source": [
    "## read in file\n",
    "income = pd.read_csv(\"../input/demographics/income/acs_5y_income.csv\", dtype = {\"ct\":\"str\"})"
   ]
  },
  {
   "cell_type": "code",
   "execution_count": 20,
   "metadata": {},
   "outputs": [
    {
     "data": {
      "text/html": [
       "<div>\n",
       "<style scoped>\n",
       "    .dataframe tbody tr th:only-of-type {\n",
       "        vertical-align: middle;\n",
       "    }\n",
       "\n",
       "    .dataframe tbody tr th {\n",
       "        vertical-align: top;\n",
       "    }\n",
       "\n",
       "    .dataframe thead th {\n",
       "        text-align: right;\n",
       "    }\n",
       "</style>\n",
       "<table border=\"1\" class=\"dataframe\">\n",
       "  <thead>\n",
       "    <tr style=\"text-align: right;\">\n",
       "      <th></th>\n",
       "      <th>ct</th>\n",
       "      <th>census_tract</th>\n",
       "      <th>county</th>\n",
       "      <th>city</th>\n",
       "      <th>tot_households</th>\n",
       "      <th>moe_households</th>\n",
       "      <th>tot_less_than_10K</th>\n",
       "      <th>moe_less_than_10K</th>\n",
       "      <th>tot_more_than_200K</th>\n",
       "      <th>moe_more_than_200K</th>\n",
       "      <th>median_income</th>\n",
       "      <th>moe_median_income</th>\n",
       "      <th>tot_families</th>\n",
       "      <th>moe_families</th>\n",
       "    </tr>\n",
       "  </thead>\n",
       "  <tbody>\n",
       "    <tr>\n",
       "      <th>0</th>\n",
       "      <td>36005000100</td>\n",
       "      <td>Census Tract 1</td>\n",
       "      <td>Bronx County</td>\n",
       "      <td>New York</td>\n",
       "      <td>0.0</td>\n",
       "      <td>13.0</td>\n",
       "      <td>NaN</td>\n",
       "      <td>NaN</td>\n",
       "      <td>NaN</td>\n",
       "      <td>NaN</td>\n",
       "      <td>NaN</td>\n",
       "      <td>NaN</td>\n",
       "      <td>0.0</td>\n",
       "      <td>13.0</td>\n",
       "    </tr>\n",
       "    <tr>\n",
       "      <th>1</th>\n",
       "      <td>36005000200</td>\n",
       "      <td>Census Tract 2</td>\n",
       "      <td>Bronx County</td>\n",
       "      <td>New York</td>\n",
       "      <td>1446.0</td>\n",
       "      <td>212.0</td>\n",
       "      <td>2.8</td>\n",
       "      <td>3.1</td>\n",
       "      <td>17.6</td>\n",
       "      <td>7.5</td>\n",
       "      <td>121171.0</td>\n",
       "      <td>11360.0</td>\n",
       "      <td>1114.0</td>\n",
       "      <td>159.0</td>\n",
       "    </tr>\n",
       "    <tr>\n",
       "      <th>2</th>\n",
       "      <td>36005000400</td>\n",
       "      <td>Census Tract 4</td>\n",
       "      <td>Bronx County</td>\n",
       "      <td>New York</td>\n",
       "      <td>2246.0</td>\n",
       "      <td>286.0</td>\n",
       "      <td>3.6</td>\n",
       "      <td>3.7</td>\n",
       "      <td>11.2</td>\n",
       "      <td>6.0</td>\n",
       "      <td>98242.0</td>\n",
       "      <td>40861.0</td>\n",
       "      <td>1480.0</td>\n",
       "      <td>340.0</td>\n",
       "    </tr>\n",
       "    <tr>\n",
       "      <th>3</th>\n",
       "      <td>36005001600</td>\n",
       "      <td>Census Tract 16</td>\n",
       "      <td>Bronx County</td>\n",
       "      <td>New York</td>\n",
       "      <td>2149.0</td>\n",
       "      <td>184.0</td>\n",
       "      <td>10.3</td>\n",
       "      <td>6.6</td>\n",
       "      <td>5.7</td>\n",
       "      <td>3.1</td>\n",
       "      <td>42957.0</td>\n",
       "      <td>14062.0</td>\n",
       "      <td>1441.0</td>\n",
       "      <td>273.0</td>\n",
       "    </tr>\n",
       "    <tr>\n",
       "      <th>4</th>\n",
       "      <td>36005001901</td>\n",
       "      <td>Census Tract 19.01</td>\n",
       "      <td>Bronx County</td>\n",
       "      <td>New York</td>\n",
       "      <td>1092.0</td>\n",
       "      <td>116.0</td>\n",
       "      <td>8.9</td>\n",
       "      <td>5.6</td>\n",
       "      <td>10.2</td>\n",
       "      <td>6.0</td>\n",
       "      <td>67361.0</td>\n",
       "      <td>25254.0</td>\n",
       "      <td>615.0</td>\n",
       "      <td>133.0</td>\n",
       "    </tr>\n",
       "  </tbody>\n",
       "</table>\n",
       "</div>"
      ],
      "text/plain": [
       "            ct        census_tract         county       city  tot_households  \\\n",
       "0  36005000100      Census Tract 1   Bronx County   New York             0.0   \n",
       "1  36005000200      Census Tract 2   Bronx County   New York          1446.0   \n",
       "2  36005000400      Census Tract 4   Bronx County   New York          2246.0   \n",
       "3  36005001600     Census Tract 16   Bronx County   New York          2149.0   \n",
       "4  36005001901  Census Tract 19.01   Bronx County   New York          1092.0   \n",
       "\n",
       "   moe_households  tot_less_than_10K  moe_less_than_10K  tot_more_than_200K  \\\n",
       "0            13.0                NaN                NaN                 NaN   \n",
       "1           212.0                2.8                3.1                17.6   \n",
       "2           286.0                3.6                3.7                11.2   \n",
       "3           184.0               10.3                6.6                 5.7   \n",
       "4           116.0                8.9                5.6                10.2   \n",
       "\n",
       "   moe_more_than_200K  median_income  moe_median_income  tot_families  \\\n",
       "0                 NaN            NaN                NaN           0.0   \n",
       "1                 7.5       121171.0            11360.0        1114.0   \n",
       "2                 6.0        98242.0            40861.0        1480.0   \n",
       "3                 3.1        42957.0            14062.0        1441.0   \n",
       "4                 6.0        67361.0            25254.0         615.0   \n",
       "\n",
       "   moe_families  \n",
       "0          13.0  \n",
       "1         159.0  \n",
       "2         340.0  \n",
       "3         273.0  \n",
       "4         133.0  "
      ]
     },
     "execution_count": 20,
     "metadata": {},
     "output_type": "execute_result"
    }
   ],
   "source": [
    "## take a peak\n",
    "income.head()"
   ]
  },
  {
   "cell_type": "code",
   "execution_count": 21,
   "metadata": {},
   "outputs": [],
   "source": [
    "## drop null census tracts... original data show that there wasn't sufficient data in those tracts.\n",
    "nulls_dropped = income.dropna(subset = 'median_income')"
   ]
  },
  {
   "cell_type": "code",
   "execution_count": 22,
   "metadata": {},
   "outputs": [
    {
     "name": "stdout",
     "output_type": "stream",
     "text": [
      "<class 'pandas.core.frame.DataFrame'>\n",
      "Index: 2192 entries, 1 to 2325\n",
      "Data columns (total 14 columns):\n",
      " #   Column              Non-Null Count  Dtype  \n",
      "---  ------              --------------  -----  \n",
      " 0   ct                  2192 non-null   object \n",
      " 1   census_tract        2192 non-null   object \n",
      " 2   county              2192 non-null   object \n",
      " 3   city                2192 non-null   object \n",
      " 4   tot_households      2192 non-null   float64\n",
      " 5   moe_households      2192 non-null   float64\n",
      " 6   tot_less_than_10K   2192 non-null   float64\n",
      " 7   moe_less_than_10K   2192 non-null   float64\n",
      " 8   tot_more_than_200K  2192 non-null   float64\n",
      " 9   moe_more_than_200K  2192 non-null   float64\n",
      " 10  median_income       2192 non-null   float64\n",
      " 11  moe_median_income   2179 non-null   float64\n",
      " 12  tot_families        2192 non-null   float64\n",
      " 13  moe_families        2192 non-null   float64\n",
      "dtypes: float64(10), object(4)\n",
      "memory usage: 256.9+ KB\n"
     ]
    }
   ],
   "source": [
    "nulls_dropped.info()"
   ]
  },
  {
   "cell_type": "code",
   "execution_count": 23,
   "metadata": {},
   "outputs": [],
   "source": [
    "## read in crosswalk, which transitions census tracts made in 2020 to council districts made in 2023\n",
    "census_crosswalk = pd.read_csv(\"../input/crosswalks/ct20-to-cd23-crosswalk.csv\",dtype = {\"ct\":\"str\",'cd':'str'})"
   ]
  },
  {
   "cell_type": "code",
   "execution_count": 24,
   "metadata": {},
   "outputs": [
    {
     "name": "stdout",
     "output_type": "stream",
     "text": [
      "<class 'pandas.core.frame.DataFrame'>\n",
      "RangeIndex: 2327 entries, 0 to 2326\n",
      "Data columns (total 2 columns):\n",
      " #   Column  Non-Null Count  Dtype \n",
      "---  ------  --------------  ----- \n",
      " 0   ct      2327 non-null   object\n",
      " 1   cd      2325 non-null   object\n",
      "dtypes: object(2)\n",
      "memory usage: 36.5+ KB\n"
     ]
    }
   ],
   "source": [
    "## take a peak\n",
    "census_crosswalk.info()"
   ]
  },
  {
   "cell_type": "code",
   "execution_count": 25,
   "metadata": {},
   "outputs": [],
   "source": [
    "## combine \n",
    "income_by_cd = pd.merge(nulls_dropped,\n",
    "                        census_crosswalk,\n",
    "                        left_on = \"ct\",\n",
    "                        right_on = \"ct\")"
   ]
  },
  {
   "cell_type": "code",
   "execution_count": 26,
   "metadata": {},
   "outputs": [
    {
     "name": "stdout",
     "output_type": "stream",
     "text": [
      "<class 'pandas.core.frame.DataFrame'>\n",
      "RangeIndex: 2192 entries, 0 to 2191\n",
      "Data columns (total 15 columns):\n",
      " #   Column              Non-Null Count  Dtype  \n",
      "---  ------              --------------  -----  \n",
      " 0   ct                  2192 non-null   object \n",
      " 1   census_tract        2192 non-null   object \n",
      " 2   county              2192 non-null   object \n",
      " 3   city                2192 non-null   object \n",
      " 4   tot_households      2192 non-null   float64\n",
      " 5   moe_households      2192 non-null   float64\n",
      " 6   tot_less_than_10K   2192 non-null   float64\n",
      " 7   moe_less_than_10K   2192 non-null   float64\n",
      " 8   tot_more_than_200K  2192 non-null   float64\n",
      " 9   moe_more_than_200K  2192 non-null   float64\n",
      " 10  median_income       2192 non-null   float64\n",
      " 11  moe_median_income   2179 non-null   float64\n",
      " 12  tot_families        2192 non-null   float64\n",
      " 13  moe_families        2192 non-null   float64\n",
      " 14  cd                  2192 non-null   object \n",
      "dtypes: float64(10), object(5)\n",
      "memory usage: 257.0+ KB\n"
     ]
    }
   ],
   "source": [
    "## take a peak\n",
    "income_by_cd.info()"
   ]
  },
  {
   "cell_type": "code",
   "execution_count": 33,
   "metadata": {},
   "outputs": [],
   "source": [
    "## group the census tracts and incomes by city council district, take the mean of the incomes\n",
    "district_incomes = income_by_cd.groupby(\"cd\")[\"median_income\"].mean().round(1).reset_index()"
   ]
  },
  {
   "cell_type": "code",
   "execution_count": 34,
   "metadata": {},
   "outputs": [
    {
     "data": {
      "text/html": [
       "<div>\n",
       "<style scoped>\n",
       "    .dataframe tbody tr th:only-of-type {\n",
       "        vertical-align: middle;\n",
       "    }\n",
       "\n",
       "    .dataframe tbody tr th {\n",
       "        vertical-align: top;\n",
       "    }\n",
       "\n",
       "    .dataframe thead th {\n",
       "        text-align: right;\n",
       "    }\n",
       "</style>\n",
       "<table border=\"1\" class=\"dataframe\">\n",
       "  <thead>\n",
       "    <tr style=\"text-align: right;\">\n",
       "      <th></th>\n",
       "      <th>cd</th>\n",
       "      <th>median_income</th>\n",
       "    </tr>\n",
       "  </thead>\n",
       "  <tbody>\n",
       "    <tr>\n",
       "      <th>0</th>\n",
       "      <td>1</td>\n",
       "      <td>131217.6</td>\n",
       "    </tr>\n",
       "    <tr>\n",
       "      <th>1</th>\n",
       "      <td>10</td>\n",
       "      <td>74274.6</td>\n",
       "    </tr>\n",
       "    <tr>\n",
       "      <th>2</th>\n",
       "      <td>11</td>\n",
       "      <td>78149.6</td>\n",
       "    </tr>\n",
       "    <tr>\n",
       "      <th>3</th>\n",
       "      <td>12</td>\n",
       "      <td>67325.1</td>\n",
       "    </tr>\n",
       "    <tr>\n",
       "      <th>4</th>\n",
       "      <td>13</td>\n",
       "      <td>81096.6</td>\n",
       "    </tr>\n",
       "  </tbody>\n",
       "</table>\n",
       "</div>"
      ],
      "text/plain": [
       "   cd  median_income\n",
       "0   1       131217.6\n",
       "1  10        74274.6\n",
       "2  11        78149.6\n",
       "3  12        67325.1\n",
       "4  13        81096.6"
      ]
     },
     "execution_count": 34,
     "metadata": {},
     "output_type": "execute_result"
    }
   ],
   "source": [
    "## take a peak\n",
    "district_incomes.head()"
   ]
  },
  {
   "cell_type": "code",
   "execution_count": 35,
   "metadata": {},
   "outputs": [],
   "source": [
    "district_incomes.to_csv(\"../output/demographics/district_incomes.csv\")"
   ]
  },
  {
   "cell_type": "code",
   "execution_count": null,
   "metadata": {},
   "outputs": [],
   "source": []
  }
 ],
 "metadata": {
  "kernelspec": {
   "display_name": "kyd-env",
   "language": "python",
   "name": "python3"
  },
  "language_info": {
   "codemirror_mode": {
    "name": "ipython",
    "version": 3
   },
   "file_extension": ".py",
   "mimetype": "text/x-python",
   "name": "python",
   "nbconvert_exporter": "python",
   "pygments_lexer": "ipython3",
   "version": "3.9.6"
  },
  "orig_nbformat": 4
 },
 "nbformat": 4,
 "nbformat_minor": 2
}
