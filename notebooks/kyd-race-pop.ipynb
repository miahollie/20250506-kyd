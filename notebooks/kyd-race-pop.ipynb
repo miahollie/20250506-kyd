{
 "cells": [
  {
   "cell_type": "markdown",
   "id": "ce50d67d",
   "metadata": {},
   "source": [
    "# Population by Race\n",
    "\n",
    "The purpose of this notebook is to use the 2023 5-Year American Community Survey's data files on populations by race categories.\n",
    "\n",
    "<b> NOTE: YOU NEED TO FIX THE 'OTHER RACE' COUNTS </b>\n"
   ]
  },
  {
   "cell_type": "code",
   "execution_count": 3,
   "id": "a63d3128",
   "metadata": {
    "tags": []
   },
   "outputs": [],
   "source": [
    "## import libraries\n",
    "import pandas as pd\n",
    "import geopandas as gpd"
   ]
  },
  {
   "cell_type": "code",
   "execution_count": 4,
   "id": "0cf573e5",
   "metadata": {},
   "outputs": [],
   "source": [
    "## set viz options\n",
    "pd.set_option('display.max_rows', 500)"
   ]
  },
  {
   "cell_type": "code",
   "execution_count": 12,
   "id": "22e1bb02",
   "metadata": {},
   "outputs": [],
   "source": [
    "## import population and broad race and population categories\n",
    "broad_categories = pd.read_excel('../input/demographics/ethnicity/demographics.xlsx',\n",
    "                                 sheet_name = 'cleaned_filtered',\n",
    "                                 dtype = {'ct':'str'})"
   ]
  },
  {
   "cell_type": "code",
   "execution_count": 24,
   "id": "a8374add",
   "metadata": {},
   "outputs": [
    {
     "data": {
      "text/html": [
       "<div>\n",
       "<style scoped>\n",
       "    .dataframe tbody tr th:only-of-type {\n",
       "        vertical-align: middle;\n",
       "    }\n",
       "\n",
       "    .dataframe tbody tr th {\n",
       "        vertical-align: top;\n",
       "    }\n",
       "\n",
       "    .dataframe thead th {\n",
       "        text-align: right;\n",
       "    }\n",
       "</style>\n",
       "<table border=\"1\" class=\"dataframe\">\n",
       "  <thead>\n",
       "    <tr style=\"text-align: right;\">\n",
       "      <th></th>\n",
       "      <th>ct</th>\n",
       "      <th>pop</th>\n",
       "      <th>pop_u18</th>\n",
       "      <th>hisp</th>\n",
       "      <th>white</th>\n",
       "      <th>black</th>\n",
       "      <th>asian</th>\n",
       "      <th>other_race</th>\n",
       "      <th>multiracial</th>\n",
       "    </tr>\n",
       "  </thead>\n",
       "  <tbody>\n",
       "    <tr>\n",
       "      <th>0</th>\n",
       "      <td>36005000100</td>\n",
       "      <td>3538</td>\n",
       "      <td>0</td>\n",
       "      <td>866</td>\n",
       "      <td>958</td>\n",
       "      <td>1545</td>\n",
       "      <td>79</td>\n",
       "      <td>27</td>\n",
       "      <td>63</td>\n",
       "    </tr>\n",
       "    <tr>\n",
       "      <th>1</th>\n",
       "      <td>36005000200</td>\n",
       "      <td>5177</td>\n",
       "      <td>882</td>\n",
       "      <td>3198</td>\n",
       "      <td>77</td>\n",
       "      <td>1517</td>\n",
       "      <td>311</td>\n",
       "      <td>33</td>\n",
       "      <td>41</td>\n",
       "    </tr>\n",
       "    <tr>\n",
       "      <th>2</th>\n",
       "      <td>36005000400</td>\n",
       "      <td>6481</td>\n",
       "      <td>1446</td>\n",
       "      <td>3483</td>\n",
       "      <td>333</td>\n",
       "      <td>2481</td>\n",
       "      <td>19</td>\n",
       "      <td>80</td>\n",
       "      <td>85</td>\n",
       "    </tr>\n",
       "    <tr>\n",
       "      <th>3</th>\n",
       "      <td>36005001600</td>\n",
       "      <td>6011</td>\n",
       "      <td>1266</td>\n",
       "      <td>3299</td>\n",
       "      <td>104</td>\n",
       "      <td>2087</td>\n",
       "      <td>282</td>\n",
       "      <td>157</td>\n",
       "      <td>82</td>\n",
       "    </tr>\n",
       "    <tr>\n",
       "      <th>4</th>\n",
       "      <td>36005001901</td>\n",
       "      <td>2401</td>\n",
       "      <td>556</td>\n",
       "      <td>1085</td>\n",
       "      <td>355</td>\n",
       "      <td>875</td>\n",
       "      <td>12</td>\n",
       "      <td>36</td>\n",
       "      <td>38</td>\n",
       "    </tr>\n",
       "  </tbody>\n",
       "</table>\n",
       "</div>"
      ],
      "text/plain": [
       "            ct   pop  pop_u18  hisp  white  black  asian  other_race  \\\n",
       "0  36005000100  3538        0   866    958   1545     79          27   \n",
       "1  36005000200  5177      882  3198     77   1517    311          33   \n",
       "2  36005000400  6481     1446  3483    333   2481     19          80   \n",
       "3  36005001600  6011     1266  3299    104   2087    282         157   \n",
       "4  36005001901  2401      556  1085    355    875     12          36   \n",
       "\n",
       "   multiracial  \n",
       "0           63  \n",
       "1           41  \n",
       "2           85  \n",
       "3           82  \n",
       "4           38  "
      ]
     },
     "execution_count": 24,
     "metadata": {},
     "output_type": "execute_result"
    }
   ],
   "source": [
    "broad_categories.head()"
   ]
  },
  {
   "cell_type": "code",
   "execution_count": 13,
   "id": "df1d0e34",
   "metadata": {},
   "outputs": [],
   "source": [
    "## import crosswalk, which matches 2020 census tracts with 2023 council districts\n",
    "crosswalk = pd.read_csv('../input/crosswalks/ct20-to-cd23-crosswalk.csv', dtype = {'ct':'str', 'cd':'str'})"
   ]
  },
  {
   "cell_type": "code",
   "execution_count": 14,
   "id": "16984863",
   "metadata": {},
   "outputs": [],
   "source": [
    "## import the old demographics file, which includes the geometry for each census tract\n",
    "old_demographics_file = gpd.read_file('../input/GIS/old_gis/demographics.json')"
   ]
  },
  {
   "cell_type": "code",
   "execution_count": 17,
   "id": "a591f528",
   "metadata": {},
   "outputs": [],
   "source": [
    "## read in the old centroid file, which includes geometry for points within each census tract\n",
    "old_centroid_file = gpd.read_file('../input/GIS/old_gis/demographics-centroids.json')"
   ]
  },
  {
   "cell_type": "code",
   "execution_count": 20,
   "id": "cdbc931e",
   "metadata": {},
   "outputs": [],
   "source": [
    "## merge the crosswalk with the race categories\n",
    "tracts_w_districts = broad_categories.merge(crosswalk[['ct','cd']],\n",
    "                                            on = 'ct',\n",
    "                                            how = 'left')"
   ]
  },
  {
   "cell_type": "code",
   "execution_count": 22,
   "id": "cbe00220",
   "metadata": {},
   "outputs": [
    {
     "data": {
      "text/html": [
       "<div>\n",
       "<style scoped>\n",
       "    .dataframe tbody tr th:only-of-type {\n",
       "        vertical-align: middle;\n",
       "    }\n",
       "\n",
       "    .dataframe tbody tr th {\n",
       "        vertical-align: top;\n",
       "    }\n",
       "\n",
       "    .dataframe thead th {\n",
       "        text-align: right;\n",
       "    }\n",
       "</style>\n",
       "<table border=\"1\" class=\"dataframe\">\n",
       "  <thead>\n",
       "    <tr style=\"text-align: right;\">\n",
       "      <th></th>\n",
       "      <th>ct</th>\n",
       "      <th>pop</th>\n",
       "      <th>pop_u18</th>\n",
       "      <th>hisp</th>\n",
       "      <th>white</th>\n",
       "      <th>black</th>\n",
       "      <th>asian</th>\n",
       "      <th>other_race</th>\n",
       "      <th>multiracial</th>\n",
       "      <th>cd</th>\n",
       "    </tr>\n",
       "  </thead>\n",
       "  <tbody>\n",
       "    <tr>\n",
       "      <th>0</th>\n",
       "      <td>36005000100</td>\n",
       "      <td>3538</td>\n",
       "      <td>0</td>\n",
       "      <td>866</td>\n",
       "      <td>958</td>\n",
       "      <td>1545</td>\n",
       "      <td>79</td>\n",
       "      <td>27</td>\n",
       "      <td>63</td>\n",
       "      <td>22</td>\n",
       "    </tr>\n",
       "    <tr>\n",
       "      <th>1</th>\n",
       "      <td>36005000200</td>\n",
       "      <td>5177</td>\n",
       "      <td>882</td>\n",
       "      <td>3198</td>\n",
       "      <td>77</td>\n",
       "      <td>1517</td>\n",
       "      <td>311</td>\n",
       "      <td>33</td>\n",
       "      <td>41</td>\n",
       "      <td>18</td>\n",
       "    </tr>\n",
       "    <tr>\n",
       "      <th>2</th>\n",
       "      <td>36005000400</td>\n",
       "      <td>6481</td>\n",
       "      <td>1446</td>\n",
       "      <td>3483</td>\n",
       "      <td>333</td>\n",
       "      <td>2481</td>\n",
       "      <td>19</td>\n",
       "      <td>80</td>\n",
       "      <td>85</td>\n",
       "      <td>18</td>\n",
       "    </tr>\n",
       "    <tr>\n",
       "      <th>3</th>\n",
       "      <td>36005001600</td>\n",
       "      <td>6011</td>\n",
       "      <td>1266</td>\n",
       "      <td>3299</td>\n",
       "      <td>104</td>\n",
       "      <td>2087</td>\n",
       "      <td>282</td>\n",
       "      <td>157</td>\n",
       "      <td>82</td>\n",
       "      <td>18</td>\n",
       "    </tr>\n",
       "    <tr>\n",
       "      <th>4</th>\n",
       "      <td>36005001901</td>\n",
       "      <td>2401</td>\n",
       "      <td>556</td>\n",
       "      <td>1085</td>\n",
       "      <td>355</td>\n",
       "      <td>875</td>\n",
       "      <td>12</td>\n",
       "      <td>36</td>\n",
       "      <td>38</td>\n",
       "      <td>8</td>\n",
       "    </tr>\n",
       "  </tbody>\n",
       "</table>\n",
       "</div>"
      ],
      "text/plain": [
       "            ct   pop  pop_u18  hisp  white  black  asian  other_race  \\\n",
       "0  36005000100  3538        0   866    958   1545     79          27   \n",
       "1  36005000200  5177      882  3198     77   1517    311          33   \n",
       "2  36005000400  6481     1446  3483    333   2481     19          80   \n",
       "3  36005001600  6011     1266  3299    104   2087    282         157   \n",
       "4  36005001901  2401      556  1085    355    875     12          36   \n",
       "\n",
       "   multiracial  cd  \n",
       "0           63  22  \n",
       "1           41  18  \n",
       "2           85  18  \n",
       "3           82  18  \n",
       "4           38   8  "
      ]
     },
     "execution_count": 22,
     "metadata": {},
     "output_type": "execute_result"
    }
   ],
   "source": [
    "## take a peak\n",
    "tracts_w_districts.head()"
   ]
  },
  {
   "cell_type": "code",
   "execution_count": 23,
   "id": "5b454b9e",
   "metadata": {},
   "outputs": [],
   "source": [
    "## write to a csv\n",
    "tracts_w_districts.to_csv('../output/demographics/race_pop_23.csv')"
   ]
  },
  {
   "cell_type": "code",
   "execution_count": null,
   "id": "2a17afbe",
   "metadata": {},
   "outputs": [],
   "source": []
  }
 ],
 "metadata": {
  "kernelspec": {
   "display_name": "kyd-env",
   "language": "python",
   "name": "python3"
  },
  "language_info": {
   "codemirror_mode": {
    "name": "ipython",
    "version": 3
   },
   "file_extension": ".py",
   "mimetype": "text/x-python",
   "name": "python",
   "nbconvert_exporter": "python",
   "pygments_lexer": "ipython3",
   "version": "3.9.6"
  }
 },
 "nbformat": 4,
 "nbformat_minor": 5
}
